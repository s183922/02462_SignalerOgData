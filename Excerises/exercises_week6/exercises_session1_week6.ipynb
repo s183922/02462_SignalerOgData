{
 "cells": [
  {
   "cell_type": "code",
   "execution_count": 3,
   "metadata": {},
   "outputs": [],
   "source": [
    "import numpy as np\n",
    "import matplotlib.pyplot as plt"
   ]
  },
  {
   "cell_type": "markdown",
   "metadata": {},
   "source": [
    "# Session 1\n",
    "\n",
    "# Sampling and reconstruction\n",
    "\n",
    "Most signals of practical interest, such as speech, biometrics, audio and video are analog. \n",
    "For intelligent systems to process such signals, they must be converted into a digital form where they are represented by a sequence of numers with finite precision. This conversation can be obtained by sampling the continious signal at discrete time instants. With uniform (periodic) sampling, there is a fixed  time interval between samples, $T$, called the sampling period. The reciprocal of $T$, $F_s = \\frac{1}{T}$, is called the sampling rate (or sampling frequency in hertz).\n",
    "\n",
    "Let $x_a(t)$ be the analog function for a signal at time $t$.  Assuming that sample $n=0$ is collected at $t=0$, the n'th sample will have the value $x_d(n) = x_a(nT)$.\n",
    "\n",
    "A simple continious-time signal is the harmonic oscillation, that is described by the sinusoidal (sine wave) curve:\n",
    "\n",
    "$$ x_a(t) = A\\sin(\\Omega\\, t+\\theta), $$\n",
    "\n",
    "where $A$ is the amplitude of the sinusoid, $\\Omega$ is the frequency (in radians per second), and $\\theta$ is the phase (in radians). It is often preferred to define the frequency $F$ in cycles per second (hertz) such that $\\Omega = 2\\pi F$:\n",
    "\n",
    "$$ x_a(t) = A\\sin(2\\pi F\\, t +\\theta)$$\n",
    "\n",
    "The discrete signal obtained with a sampling rate $F_s = \\frac{1}{T}$ is:\n",
    "\n",
    "$$ \n",
    "x_d(n) = A \\sin\\left(2\\pi\\frac{F}{F_s}n + \\theta\\right)\n",
    "$$\n",
    "\n",
    "### The sampling theorem\n",
    "\n",
    "Notice, that if the frequence of a signal is $F' = F+kF_s$ for some integer $k$, the discrete signal becomes:\n",
    "\n",
    "$$\n",
    "x'_d(n) = A\\sin\\left(2\\pi\\frac{F+kF_s}{F_s}n + \\theta\\right)  = A\\sin\\left(2\\pi\\frac{F}{F_s}n + 2\\pi k n +\\theta\\right) = A\\sin\\left(2\\pi\\frac{F}{F_s}n + \\theta\\right)\n",
    "$$\n",
    "\n",
    "Such frequencies, $F'$, are called aliases of the frequence $F$ for a given sampling rate $F_s$, as we effectively see that we cannot distinguish between the functions  $x'_d(n) = x_d(n)$. The Shannon-Nyquist sampling theorem states that the contininuous signal can only be properly sampled when the sampling frequency is at least twice the frequency of the signal, ie. $F_s > 2F$. The Nyquist rate is then defined as $F_n = 2 F$.\n",
    "\n",
    "\n",
    "### Reconstruction of signal\n",
    "\n",
    "A properly sampled continuous-time sinusoidal signal can be reconstructed from the samples using the sinc interpolation formula: $$x_a(t) = \\sum_{n=-\\infty}^{\\infty} x_d(n) \\text{sinc}\\left( \\dfrac{t-nT}{T}\\right),$$\n",
    "where $x_d(n)$ is the sampled value for the $n$'th sample, where it is assumed that the sample is collected at time $nT$, with sample $n=0$ collected at $t=0$.\n",
    "Here, the normalized cardinale sine function is defined  as: $\\text{sinc}(x) = \\frac{\\sin(\\pi x)}{\\pi x} $, with $x\\neq 0$ and $\\text{sinc}(0) = 1$. In python the sinc function is available as $\\texttt{np.sinc}$. \n",
    "\n",
    "In order to reconstruct the signal perfectly, the formula assumes that data is collected on the entire span of the signal domain, which in practice is of course not possible. However, as we will see in the exercises, for limited data the signal can still be approximated for the time interval where data is present. \n",
    "\n",
    "\n",
    "### Questions\n",
    "\n",
    "\n",
    "$\\star$ Let two analog signals $x_{a1}$ and $x_{a2}$ be described by individual harmonic oscillators, such that $x_{a1}(t)$ has amplitude $A_1 = 1$, frequency $F_1 = \\frac{1}{8}$ and  phase $\\theta_1 = 0$, while $x_{a2}(t)$ has amplitude $A_2 = 1$, frequency $F_2 = \\frac{7}{8}$ and  phase $\\theta_2 = \\pi$. \n",
    "- for both signals, what is the minimum sampling rate (Nyquist rate) to avoid aliasing?\n",
    "- for both signals, what is the discrete signal obtained with the sampling rate $F_s = 3$ hertz?  \n",
    "\n",
    "\n",
    "$\\star$ Implement a function that simulates the harmonic oscillator. As input the function must recieve the parameters $t,A,F,\\theta$ and it must compute and return the corresponding value $x_a(t)$. \n",
    "- Plot both signals $x_{a1}$ and $x_{a2}$ in the same figure in the range $t = [0, 20]$. In order for the wave function to look smooth, the plot must be based on a high number of points. For instance you can use $N = 10^3$ samples from your harmonic oscillator function.\n",
    "- Verify from the plot that $x_{a1}$ is an alias for $x_{a2}$ when the sample frequency is $1$ hertz. You can for instance sample both signals with $F_s = 1$ and plot the sample points in the same figure as the waves.\n",
    "\n",
    "$\\star$ Implement a function that approximates the reconstruction given by the sinc interpolation formula. Your function should compute the reconstructed value at time $t$ based on all $N$ data points as $$x_r(t) = \\sum_{n=0}^{N-1} x(n) \\text{sinc}\\left( \\dfrac{t-nT}{T}\\right)$$\n",
    "where $x(n)$ is the sampled value for the $n$'th sample, when it is assumed that the sample is collected at time $nT$, with sample $n=0$ collected at $t=0$.\n",
    "\n",
    "- For different sampling frequencies, sample the signal $x_{a2}$ and plot the sample points together with the wave function. Also, use your interpolation function to reconstruct the signal from data and plot the reconstructed signal.\n",
    "    - Try different sampling frequencies, both below and above the Nyquist rate. For instance you can try $F_s = 1$, $F_s = 3$ and $F_s = 0.75$. Compare and comment on your experiments.\n",
    "    - For $F_s = 1$ verify that the reconstruction is the alias $x_{a1}$.  \n",
    "- Try to use linear interpolation instead of sinc interpolation. Comment on what sampling rate you then need for the reconstructed wave to look 'smooth'?\n",
    "- For both sinc and linear interpolation, investigate what happens if you try to reconstruct the signal outside the time range supported by the sampled data."
   ]
  },
  {
   "cell_type": "code",
   "execution_count": null,
   "metadata": {},
   "outputs": [],
   "source": []
  }
 ],
 "metadata": {
  "kernelspec": {
   "display_name": "Python 3",
   "language": "python",
   "name": "python3"
  },
  "language_info": {
   "codemirror_mode": {
    "name": "ipython",
    "version": 3
   },
   "file_extension": ".py",
   "mimetype": "text/x-python",
   "name": "python",
   "nbconvert_exporter": "python",
   "pygments_lexer": "ipython3",
   "version": "3.7.1"
  }
 },
 "nbformat": 4,
 "nbformat_minor": 2
}
