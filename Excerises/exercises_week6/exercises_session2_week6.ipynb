{
 "cells": [
  {
   "cell_type": "code",
   "execution_count": null,
   "metadata": {
    "collapsed": true
   },
   "outputs": [],
   "source": [
    "import numpy as np\n",
    "import matplotlib.pyplot as plt"
   ]
  },
  {
   "cell_type": "markdown",
   "metadata": {},
   "source": [
    "# Session 2\n",
    "\n",
    "# Orthonormal Periodic Basis\n",
    "\n",
    "\n",
    "Let us consider signals sampled on the interval $n \\in [0,N-1]$.\n",
    "The fundamental frequency functions\n",
    "\n",
    "$$\n",
    "x_1(n) = A \\sin \\left( \\frac{2\\pi  }{N}n \\right)  \\nonumber\n",
    "$$\n",
    "$$\n",
    "y_1(n) = B \\cos \\left( \\frac{2\\pi  }{N}n \\right)  \\nonumber\n",
    "$$\n",
    "\n",
    "are periodic with $x(n+N)=x(n), \\ y(n+N)=y(n)$. The 'higher' harmonics are given by\n",
    "\n",
    "$$\n",
    "x_k(n) = A \\sin \\left( \\frac{2\\pi k }{N}n \\right)  \\nonumber\n",
    "$$\n",
    "$$\n",
    "y_k(n) = B \\cos \\left( \\frac{2\\pi k }{N}n \\right)  \\nonumber\n",
    "$$\n",
    "\n",
    "are periodic with $x(n+\\frac{N}{k})=x(n), \\ y(n+\\frac{N}{k})=y(n)$, i.e. their frequencies are $k$ times higher than the fundamental frequency.\n",
    "\n",
    "The range of $k$'s is $k=[0,N/2]$ for even $N$ and $k=[0,(N-1)/2]$ for odd. With $k=0$  being the constant function\n",
    "\n",
    "$$\n",
    "x_{(N-1)/2}(n) = B \\cos \\left( \\frac{2\\pi 0}{N}n \\right) = B \\nonumber\n",
    "$$\n",
    "\n",
    "So in total we have precisely $N$ discrete sampled harmonic functions or vectors if they are visualized as points in $\\mathbb{R}^N$. \n",
    "\n",
    "$$\n",
    "(\\mathbf{x}_{k})_n = x_{k}(n) \\nonumber\n",
    "$$\n",
    "\n",
    "In the exercise we will show that harmonics are mutually orthogonal, so when properly normalized and numbered from $0$ to $N-1$\n",
    "\n",
    "$$\n",
    "\\boldsymbol{u}_{2k} = \\mathbf{x}_{k}/\\|\\mathbf{x}_{k}\\| \\nonumber\n",
    "$$\n",
    "\n",
    "$$\n",
    "\\boldsymbol{u}_{2k+1} = \\mathbf{y}_{k}/\\|\\mathbf{y}_{k}\\| \\nonumber\n",
    "$$\n",
    "\n",
    "we have a complete orthonormal basis set! We can form a \\highlight{basis matrix} $\\boldsymbol{U}=\\left( \\boldsymbol{u}_1 \\quad \\boldsymbol{u}_2 \\quad ... \\quad \\boldsymbol{u}_N \\right)$ where $\\|\\boldsymbol{u}\\|=1$.\n"
   ]
  },
  {
   "cell_type": "code",
   "execution_count": null,
   "metadata": {
    "collapsed": true
   },
   "outputs": [],
   "source": [
    "## In this snippet you can see how to create the matrix with the basis vector U\n",
    "## look at the code and try to understand what is going on!\n",
    "\n",
    "F_s = 121  # sampling frequency\n",
    "time_length = 1 # duration of the sampling window\n",
    "N = F_s * time_length # number of samples \n",
    "\n",
    "# ensure that we are choosing an odd number of samples\n",
    "N = int(2*np.floor(N/2)+1)\n",
    "print(N)\n",
    "\n",
    "###################\n",
    "#### BASIS CREATION\n",
    "###################\n",
    "\n",
    "indx = np.arange(0,N,1)\n",
    "U = np.zeros((N,N)) # N x N\n",
    "U[:,0] = np.ones(N)/np.sqrt(N)  \n",
    "\n",
    "n_pairs = int((N-1)/2)\n",
    "\n",
    "for k in range(1,n_pairs + 1):\n",
    "    # in each column we are going to define cosine or sine function with frequency k\n",
    "    U[:,2*k] = np.cos(2*(np.pi/N)*(indx.T)*(k)) ## at each step we are filling this is a column\n",
    "    U[:,2*k] = U[:,2*k]/(np.linalg.norm(U[:,2*k])) # length = sqrt(N / 2)\n",
    "\n",
    "    U[:,2*k-1] = np.sin(2*(np.pi/N)*(indx.T)*(k))\n",
    "    U[:,2*k-1] = U[:,2*k-1]/ (np.linalg.norm(U[:,2*k-1]))\n"
   ]
  },
  {
   "cell_type": "markdown",
   "metadata": {},
   "source": [
    "### Question 1\n",
    "\n",
    "Show that the matrix U is orthonormal, i.e. that the vectors are both unit length and they are orthogonal. To do that you should prove that:\n",
    "1) all vectors of the basis (which in this case are the columns of the matrix U) have length 1;\n",
    "2) check that two general vectors $U(2k)_j = \\sin(2\\pi \\frac{k}{N}j)$ and $U(2k+1)_j = \\cos(2\\pi \\frac{k'}{N}j)$ are orthogonal. Using the Trigonometric identities, try to show that:\n",
    "$$ \\sum_{j=0}^{N-1}\\sin\\left(2\\pi \\frac{k}{N}j\\right)\\cos\\left(2\\pi \\frac{k'}{N}j\\right) = 0 $$\n",
    " "
   ]
  },
  {
   "cell_type": "markdown",
   "metadata": {},
   "source": [
    "### Question 2\n",
    "\n",
    "In this exercise you should understand what is the effect of a filter to a signal. But how does a filter work? A filter can be seen as a vector of weights. For each sample $x_i$, we consider the previous and the following $n_{\\text{neigh}}$ samples, and we compute the sum of the element-wise product between the samples considered and the filter weights. We then substitute $x_i$ with the computed sum. You will understand the meaning of low-pass and high-pass through the examples.\n",
    "\n",
    "You should create a random signal (look at np.random.randn()) and try to use a low-pass filter and high-pass filter on it. What kind of differences do you notice? \n",
    "In addition to this, you can try to use a low-pass and a high-pass filter in sequence. Try to use first the low-pass and then the high-pass and then repeat the experiment with the opposite order. What do you notice?"
   ]
  },
  {
   "cell_type": "code",
   "execution_count": null,
   "metadata": {
    "collapsed": true
   },
   "outputs": [],
   "source": [
    "########################\n",
    "####  FILTER CREATION\n",
    "########################\n",
    "\n",
    "### you should not modify this function, you can look at that and try to understand how the filter is built.\n",
    "### printing each step, can help understanding that. \n",
    "\n",
    "def create_filter(n_neighbours, low_pass):\n",
    "    '''\n",
    "    \n",
    "    :param n_neighbours: number of sample points consider in both direction (left and right) centered in the \n",
    "                         current sample;\n",
    "    :param low_pass: boolean, if True we create a lowpass filter, otherwise a high-pass filter\n",
    "    :return: a filter vector\n",
    "    '''\n",
    "    my_filter = np.zeros(2*n_neighbours+1)\n",
    "    my_filter[0:n_neighbours] = np.linspace(0,1,n_neighbours)\n",
    "    my_filter[(n_neighbours+1):(2*n_neighbours+1)] = np.linspace(1,0,n_neighbours)\n",
    "    \n",
    "    if low_pass:\n",
    "        my_filter[n_neighbours] = my_filter[n_neighbours-1] + my_filter[1]\n",
    "    else:\n",
    "        my_filter[n_neighbours]=-2*n_neighbours\n",
    "    \n",
    "    my_filter = my_filter/np.linalg.norm(my_filter)\n",
    "    \n",
    "    return my_filter\n",
    "\n"
   ]
  },
  {
   "cell_type": "code",
   "execution_count": null,
   "metadata": {
    "collapsed": true
   },
   "outputs": [],
   "source": [
    "def compute_filtered_signal(my_filter, signal, n_neigh):\n",
    "    '''\n",
    "\n",
    "    :param my_filter: the filter vector (low-pass or high-pass)\n",
    "    :param signal: a random signal (or N signals)\n",
    "    :param n_neigh: number of neighbours considered when you built the filter\n",
    "    :return:\n",
    "    '''\n",
    "    ## we recover the number of samples in the signal\n",
    "    n = signal.shape[0]\n",
    "    ## we recover the number of signals\n",
    "    n_signals = signal.shape[1]\n",
    "    ## we instantiate the signal we want to return\n",
    "    filtered_signal = np.zeros((n, n_signals))\n",
    "    for t in range(n):\n",
    "        # for each sample of the signal\n",
    "        for tau in range(-n_neigh, n_neigh + 1):\n",
    "            # we recover all the neighbours we want to consider and we weight it using the filter\n",
    "            filtered_signal[t,:] += my_filter[tau + n_neigh] * signal[np.remainder(t + tau, n),:]\n",
    "\n",
    "    return filtered_signal\n",
    "\n",
    "### You should create the signal (called signal in the code below) and the filter (called filt)\n",
    "### and you should also define all the parameters needed to being able to sample a signal and create a filter\n",
    "### Be careful: define a signal as a COLUMN VECTOR. If you are not sure if you did it right, print(your_vector.shape)\n",
    "##### XXX: Fill me in!\n",
    "\n",
    "\n",
    "\n"
   ]
  },
  {
   "cell_type": "markdown",
   "metadata": {},
   "source": [
    "### Question 3\n",
    "\n",
    "Now that you have understand the effects of applying a filter to a signal, we can go on with the main exercise. If you look at the first code snippet, we have just created our orthonormal basis. Now you should create: M random signals, where you should start with M=1000, where each signal contains N samples, a low pass filter (as you did before), and compute the filtered signals. "
   ]
  },
  {
   "cell_type": "code",
   "execution_count": null,
   "metadata": {
    "collapsed": true
   },
   "outputs": [],
   "source": [
    "# Define N, create the (N, M) matrix with all the random signal as column vector. Define a low-pass filter \n",
    "# and compute the filtered signals. \n",
    "\n",
    "##### XXX: Fill me in!\n",
    "\n",
    "\n",
    "\n",
    "\n"
   ]
  },
  {
   "cell_type": "markdown",
   "metadata": {
    "collapsed": true
   },
   "source": [
    "### Question 4\n",
    "\n",
    "At this point you should have your (N, M) matrix that contains the filtered signals. Now, as you did last lecture, you are going to project both the original signals and the filtered signals on the periodic function basis and for both of them you are going to compute the variance of each signal in the matrix (this means that you should compute the variance along the columns --> check the parameter **axis** in the function np.var()). \n",
    "Remember that the projection can be computed as:\n",
    "$$ \\mathbf{z_{\\text{proj}}} = \\mathbf{U}^T \\mathbf{x}$$\n",
    "\n",
    "Once you have computed the variances, plot them in the same plot. What do you notice?\n",
    "\n",
    "-- You can repeat the same exercise considering M=2 instead of M=1000. Discuss the differences in the plots.\n",
    "\n"
   ]
  },
  {
   "cell_type": "code",
   "execution_count": null,
   "metadata": {
    "collapsed": true
   },
   "outputs": [],
   "source": [
    "## Take your two matrices with the original signal and the filtered one and project them into the orthonormal basis. \n",
    "## Recall that the projection can be done with a matrix multiplication (you can use either np.matmul ior the symbol @).\n",
    "\n",
    "##### XXX: Fill me in!\n",
    "\n",
    "\n"
   ]
  },
  {
   "cell_type": "markdown",
   "metadata": {},
   "source": [
    "### Question 5\n",
    "\n",
    "In the last part of this exercise session, instead of looking at random signals, we will consider random periodic signals. You should start creating M random periodic functions (we suggest always M=1000) with a certain center frequency and bandwidth, plot only one of these functions and describe it."
   ]
  },
  {
   "cell_type": "code",
   "execution_count": null,
   "metadata": {
    "collapsed": true
   },
   "outputs": [],
   "source": [
    "##### XXX: Fill me in!\n",
    "\n",
    "M= \n",
    "f_center = \n",
    "bandwidth =\n",
    "\n",
    "fmin =\n",
    "fmax = \n",
    "\n",
    "# signals creation (you should not modify this function)\n",
    "# TODO: EXPLAIN WHAT IS GOING ON IN THE NEXT LINE\n",
    "x = U[:,fmin:fmax] @ np.random.randn(fmax-fmin,M) \n",
    "\n",
    "## plot a signal from this matrix\n",
    "##### XXX: Fill me in!\n",
    "\n",
    "\n",
    "\n",
    "# now project x on the basis and compute the variance as before. Plot it!\n",
    "##### XXX: Fill me in!\n",
    "\n",
    "\n",
    "\n",
    "\n"
   ]
  },
  {
   "cell_type": "markdown",
   "metadata": {},
   "source": [
    "### Question 6 \n",
    "\n",
    "Now the signals you should create get more interesting. We define them as a sum of periodic functions centered in two different main centers. In this exercise you should also create the function that generates these periodic signals (Hint: try to look at the function given to you in the previous exercise)"
   ]
  },
  {
   "cell_type": "code",
   "execution_count": null,
   "metadata": {
    "collapsed": true
   },
   "outputs": [],
   "source": [
    "##### XXX: Fill me in!\n",
    "\n",
    "M =\n",
    "f_center1 = \n",
    "f_center2 = \n",
    "bandwidth =\n",
    "\n",
    "\n",
    "fmin = \n",
    "fmax = \n",
    "gmin = \n",
    "gmax = \n",
    "\n",
    "# Now it is your time to create the signals!\n",
    "x =\n",
    "\n",
    "## plot a signal from this matrix\n",
    "##### XXX: Fill me in!\n",
    "\n",
    "\n",
    "\n",
    "# now project x on the basis and compute the variance as before. Plot it!\n",
    "##### XXX: Fill me in!\n",
    "\n",
    "\n",
    "\n"
   ]
  }
 ],
 "metadata": {
  "kernelspec": {
   "display_name": "Python 3",
   "language": "python",
   "name": "python3"
  },
  "language_info": {
   "codemirror_mode": {
    "name": "ipython",
    "version": 3
   },
   "file_extension": ".py",
   "mimetype": "text/x-python",
   "name": "python",
   "nbconvert_exporter": "python",
   "pygments_lexer": "ipython3",
   "version": "3.6.3"
  }
 },
 "nbformat": 4,
 "nbformat_minor": 2
}
